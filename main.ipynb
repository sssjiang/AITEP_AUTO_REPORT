{
 "cells": [
  {
   "cell_type": "code",
   "execution_count": 1,
   "metadata": {},
   "outputs": [],
   "source": [
    "import main"
   ]
  },
  {
   "cell_type": "code",
   "execution_count": null,
   "metadata": {},
   "outputs": [],
   "source": [
    "processor = main.DrugProcessor()\n",
    "\n",
    "# 处理药物\n",
    "result = processor.process_drug(\"Myrtol\", \"Oral\",\"B00088\",\"402\")\n",
    "\n",
    "# 保存结果\n",
    "processor.save_result(result,filename='report_result_2.json')\n"
   ]
  }
 ],
 "metadata": {
  "kernelspec": {
   "display_name": "wi",
   "language": "python",
   "name": "python3"
  },
  "language_info": {
   "codemirror_mode": {
    "name": "ipython",
    "version": 3
   },
   "file_extension": ".py",
   "mimetype": "text/x-python",
   "name": "python",
   "nbconvert_exporter": "python",
   "pygments_lexer": "ipython3",
   "version": "3.10.10"
  }
 },
 "nbformat": 4,
 "nbformat_minor": 2
}
